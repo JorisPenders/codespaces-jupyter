{
 "cells": [
  {
   "cell_type": "code",
   "execution_count": 45,
   "metadata": {},
   "outputs": [],
   "source": [
    "import pandas as pd"
   ]
  },
  {
   "cell_type": "code",
   "execution_count": 46,
   "metadata": {},
   "outputs": [],
   "source": [
    "day_3 = pd.read_csv('adventdata/day_3.csv', names=['bpc'])"
   ]
  },
  {
   "cell_type": "code",
   "execution_count": 47,
   "metadata": {},
   "outputs": [],
   "source": [
    "day_3['first_half'] = day_3['bpc'].map(lambda x: x[:int(len(x) / 2)])\n",
    "day_3['second_half'] = day_3['bpc'].map(lambda x: x[int(len(x) / 2):])"
   ]
  },
  {
   "cell_type": "code",
   "execution_count": 48,
   "metadata": {},
   "outputs": [],
   "source": [
    "def identify_duplicate_item(content_of_sack):\n",
    "    total_sack_size = len(content_of_sack)\n",
    "    half_sack_size = int(total_sack_size / 2)\n",
    "\n",
    "    first_half = content_of_sack[0:half_sack_size]\n",
    "    second_half = content_of_sack[half_sack_size:total_sack_size]\n",
    "\n",
    "    overlapping_item = (\n",
    "        set(first_half).intersection(\n",
    "            set(second_half)\n",
    "        )\n",
    "    )\n",
    "\n",
    "    return list(overlapping_item)[0]"
   ]
  },
  {
   "cell_type": "code",
   "execution_count": 49,
   "metadata": {},
   "outputs": [
    {
     "data": {
      "text/plain": [
       "'C'"
      ]
     },
     "execution_count": 49,
     "metadata": {},
     "output_type": "execute_result"
    }
   ],
   "source": [
    "identify_duplicate_item('abCCde')"
   ]
  },
  {
   "cell_type": "code",
   "execution_count": 50,
   "metadata": {},
   "outputs": [],
   "source": [
    "day_3['overlapping_item'] = day_3['bpc'].map(identify_duplicate_item)"
   ]
  },
  {
   "cell_type": "code",
   "execution_count": 51,
   "metadata": {},
   "outputs": [
    {
     "data": {
      "text/html": [
       "<div>\n",
       "<style scoped>\n",
       "    .dataframe tbody tr th:only-of-type {\n",
       "        vertical-align: middle;\n",
       "    }\n",
       "\n",
       "    .dataframe tbody tr th {\n",
       "        vertical-align: top;\n",
       "    }\n",
       "\n",
       "    .dataframe thead th {\n",
       "        text-align: right;\n",
       "    }\n",
       "</style>\n",
       "<table border=\"1\" class=\"dataframe\">\n",
       "  <thead>\n",
       "    <tr style=\"text-align: right;\">\n",
       "      <th></th>\n",
       "      <th>bpc</th>\n",
       "      <th>first_half</th>\n",
       "      <th>second_half</th>\n",
       "      <th>overlapping_item</th>\n",
       "    </tr>\n",
       "  </thead>\n",
       "  <tbody>\n",
       "    <tr>\n",
       "      <th>0</th>\n",
       "      <td>DMwrszrfMzSSCpLpfCCn</td>\n",
       "      <td>DMwrszrfMz</td>\n",
       "      <td>SSCpLpfCCn</td>\n",
       "      <td>f</td>\n",
       "    </tr>\n",
       "    <tr>\n",
       "      <th>1</th>\n",
       "      <td>RMvhZhQqlvhMvRtbvbcPclPlncddppLTdppd</td>\n",
       "      <td>RMvhZhQqlvhMvRtbvb</td>\n",
       "      <td>cPclPlncddppLTdppd</td>\n",
       "      <td>l</td>\n",
       "    </tr>\n",
       "    <tr>\n",
       "      <th>2</th>\n",
       "      <td>tVMQhFtjjWmsFJsmsW</td>\n",
       "      <td>tVMQhFtjj</td>\n",
       "      <td>WmsFJsmsW</td>\n",
       "      <td>F</td>\n",
       "    </tr>\n",
       "    <tr>\n",
       "      <th>3</th>\n",
       "      <td>trRtvNhfJhSzzSTFVhQQZQhHGphP</td>\n",
       "      <td>trRtvNhfJhSzzS</td>\n",
       "      <td>TFVhQQZQhHGphP</td>\n",
       "      <td>h</td>\n",
       "    </tr>\n",
       "    <tr>\n",
       "      <th>4</th>\n",
       "      <td>CnLMBWLwDMgMcwwdngdHGPVTQGpTHZdGPGpd</td>\n",
       "      <td>CnLMBWLwDMgMcwwdng</td>\n",
       "      <td>dHGPVTQGpTHZdGPGpd</td>\n",
       "      <td>d</td>\n",
       "    </tr>\n",
       "    <tr>\n",
       "      <th>...</th>\n",
       "      <td>...</td>\n",
       "      <td>...</td>\n",
       "      <td>...</td>\n",
       "      <td>...</td>\n",
       "    </tr>\n",
       "    <tr>\n",
       "      <th>295</th>\n",
       "      <td>FChzzBWhVzrgMwffJwlnngnTlJ</td>\n",
       "      <td>FChzzBWhVzrgM</td>\n",
       "      <td>wffJwlnngnTlJ</td>\n",
       "      <td>g</td>\n",
       "    </tr>\n",
       "    <tr>\n",
       "      <th>296</th>\n",
       "      <td>MCvqvhFzcHCChjtpNNVLppGmbq</td>\n",
       "      <td>MCvqvhFzcHCCh</td>\n",
       "      <td>jtpNNVLppGmbq</td>\n",
       "      <td>q</td>\n",
       "    </tr>\n",
       "    <tr>\n",
       "      <th>297</th>\n",
       "      <td>bZZzJnccqdzcLhrcQDLrDs</td>\n",
       "      <td>bZZzJnccqdz</td>\n",
       "      <td>cLhrcQDLrDs</td>\n",
       "      <td>c</td>\n",
       "    </tr>\n",
       "    <tr>\n",
       "      <th>298</th>\n",
       "      <td>FfCfWVfjWTFClClfwjWCfGGwhZSDhSLsSSRpZprLph</td>\n",
       "      <td>FfCfWVfjWTFClClfwjWCf</td>\n",
       "      <td>GGwhZSDhSLsSSRpZprLph</td>\n",
       "      <td>w</td>\n",
       "    </tr>\n",
       "    <tr>\n",
       "      <th>299</th>\n",
       "      <td>mFmTMmFjMMWFfZtttflWjmWTngNHJHggJJHtzgnJvBtBgHdv</td>\n",
       "      <td>mFmTMmFjMMWFfZtttflWjmWT</td>\n",
       "      <td>ngNHJHggJJHtzgnJvBtBgHdv</td>\n",
       "      <td>t</td>\n",
       "    </tr>\n",
       "  </tbody>\n",
       "</table>\n",
       "<p>300 rows × 4 columns</p>\n",
       "</div>"
      ],
      "text/plain": [
       "                                                  bpc  \\\n",
       "0                                DMwrszrfMzSSCpLpfCCn   \n",
       "1                RMvhZhQqlvhMvRtbvbcPclPlncddppLTdppd   \n",
       "2                                  tVMQhFtjjWmsFJsmsW   \n",
       "3                        trRtvNhfJhSzzSTFVhQQZQhHGphP   \n",
       "4                CnLMBWLwDMgMcwwdngdHGPVTQGpTHZdGPGpd   \n",
       "..                                                ...   \n",
       "295                        FChzzBWhVzrgMwffJwlnngnTlJ   \n",
       "296                        MCvqvhFzcHCChjtpNNVLppGmbq   \n",
       "297                            bZZzJnccqdzcLhrcQDLrDs   \n",
       "298        FfCfWVfjWTFClClfwjWCfGGwhZSDhSLsSSRpZprLph   \n",
       "299  mFmTMmFjMMWFfZtttflWjmWTngNHJHggJJHtzgnJvBtBgHdv   \n",
       "\n",
       "                   first_half               second_half overlapping_item  \n",
       "0                  DMwrszrfMz                SSCpLpfCCn                f  \n",
       "1          RMvhZhQqlvhMvRtbvb        cPclPlncddppLTdppd                l  \n",
       "2                   tVMQhFtjj                 WmsFJsmsW                F  \n",
       "3              trRtvNhfJhSzzS            TFVhQQZQhHGphP                h  \n",
       "4          CnLMBWLwDMgMcwwdng        dHGPVTQGpTHZdGPGpd                d  \n",
       "..                        ...                       ...              ...  \n",
       "295             FChzzBWhVzrgM             wffJwlnngnTlJ                g  \n",
       "296             MCvqvhFzcHCCh             jtpNNVLppGmbq                q  \n",
       "297               bZZzJnccqdz               cLhrcQDLrDs                c  \n",
       "298     FfCfWVfjWTFClClfwjWCf     GGwhZSDhSLsSSRpZprLph                w  \n",
       "299  mFmTMmFjMMWFfZtttflWjmWT  ngNHJHggJJHtzgnJvBtBgHdv                t  \n",
       "\n",
       "[300 rows x 4 columns]"
      ]
     },
     "execution_count": 51,
     "metadata": {},
     "output_type": "execute_result"
    }
   ],
   "source": [
    "day_3"
   ]
  },
  {
   "cell_type": "code",
   "execution_count": 52,
   "metadata": {},
   "outputs": [],
   "source": [
    "def get_priority(item):\n",
    "    ascii_pos = ord(item)\n",
    "\n",
    "    if item.islower():    \n",
    "        correction_factor = 96\n",
    "    else:\n",
    "        correction_factor = (64 - 26)\n",
    "\n",
    "    # print(f\"ascii pos: {ascii_pos}\")\n",
    "    # print(f\"correction pos: {correction_factor}\")\n",
    "\n",
    "    return (ascii_pos - correction_factor)"
   ]
  },
  {
   "cell_type": "code",
   "execution_count": 53,
   "metadata": {},
   "outputs": [],
   "source": [
    "day_3['priority'] = day_3['overlapping_item'].map(get_priority)"
   ]
  },
  {
   "cell_type": "code",
   "execution_count": 54,
   "metadata": {},
   "outputs": [
    {
     "data": {
      "text/html": [
       "<div>\n",
       "<style scoped>\n",
       "    .dataframe tbody tr th:only-of-type {\n",
       "        vertical-align: middle;\n",
       "    }\n",
       "\n",
       "    .dataframe tbody tr th {\n",
       "        vertical-align: top;\n",
       "    }\n",
       "\n",
       "    .dataframe thead th {\n",
       "        text-align: right;\n",
       "    }\n",
       "</style>\n",
       "<table border=\"1\" class=\"dataframe\">\n",
       "  <thead>\n",
       "    <tr style=\"text-align: right;\">\n",
       "      <th></th>\n",
       "      <th>bpc</th>\n",
       "      <th>first_half</th>\n",
       "      <th>second_half</th>\n",
       "      <th>overlapping_item</th>\n",
       "      <th>priority</th>\n",
       "    </tr>\n",
       "  </thead>\n",
       "  <tbody>\n",
       "    <tr>\n",
       "      <th>0</th>\n",
       "      <td>DMwrszrfMzSSCpLpfCCn</td>\n",
       "      <td>DMwrszrfMz</td>\n",
       "      <td>SSCpLpfCCn</td>\n",
       "      <td>f</td>\n",
       "      <td>6</td>\n",
       "    </tr>\n",
       "    <tr>\n",
       "      <th>1</th>\n",
       "      <td>RMvhZhQqlvhMvRtbvbcPclPlncddppLTdppd</td>\n",
       "      <td>RMvhZhQqlvhMvRtbvb</td>\n",
       "      <td>cPclPlncddppLTdppd</td>\n",
       "      <td>l</td>\n",
       "      <td>12</td>\n",
       "    </tr>\n",
       "    <tr>\n",
       "      <th>2</th>\n",
       "      <td>tVMQhFtjjWmsFJsmsW</td>\n",
       "      <td>tVMQhFtjj</td>\n",
       "      <td>WmsFJsmsW</td>\n",
       "      <td>F</td>\n",
       "      <td>32</td>\n",
       "    </tr>\n",
       "    <tr>\n",
       "      <th>3</th>\n",
       "      <td>trRtvNhfJhSzzSTFVhQQZQhHGphP</td>\n",
       "      <td>trRtvNhfJhSzzS</td>\n",
       "      <td>TFVhQQZQhHGphP</td>\n",
       "      <td>h</td>\n",
       "      <td>8</td>\n",
       "    </tr>\n",
       "    <tr>\n",
       "      <th>4</th>\n",
       "      <td>CnLMBWLwDMgMcwwdngdHGPVTQGpTHZdGPGpd</td>\n",
       "      <td>CnLMBWLwDMgMcwwdng</td>\n",
       "      <td>dHGPVTQGpTHZdGPGpd</td>\n",
       "      <td>d</td>\n",
       "      <td>4</td>\n",
       "    </tr>\n",
       "    <tr>\n",
       "      <th>...</th>\n",
       "      <td>...</td>\n",
       "      <td>...</td>\n",
       "      <td>...</td>\n",
       "      <td>...</td>\n",
       "      <td>...</td>\n",
       "    </tr>\n",
       "    <tr>\n",
       "      <th>295</th>\n",
       "      <td>FChzzBWhVzrgMwffJwlnngnTlJ</td>\n",
       "      <td>FChzzBWhVzrgM</td>\n",
       "      <td>wffJwlnngnTlJ</td>\n",
       "      <td>g</td>\n",
       "      <td>7</td>\n",
       "    </tr>\n",
       "    <tr>\n",
       "      <th>296</th>\n",
       "      <td>MCvqvhFzcHCChjtpNNVLppGmbq</td>\n",
       "      <td>MCvqvhFzcHCCh</td>\n",
       "      <td>jtpNNVLppGmbq</td>\n",
       "      <td>q</td>\n",
       "      <td>17</td>\n",
       "    </tr>\n",
       "    <tr>\n",
       "      <th>297</th>\n",
       "      <td>bZZzJnccqdzcLhrcQDLrDs</td>\n",
       "      <td>bZZzJnccqdz</td>\n",
       "      <td>cLhrcQDLrDs</td>\n",
       "      <td>c</td>\n",
       "      <td>3</td>\n",
       "    </tr>\n",
       "    <tr>\n",
       "      <th>298</th>\n",
       "      <td>FfCfWVfjWTFClClfwjWCfGGwhZSDhSLsSSRpZprLph</td>\n",
       "      <td>FfCfWVfjWTFClClfwjWCf</td>\n",
       "      <td>GGwhZSDhSLsSSRpZprLph</td>\n",
       "      <td>w</td>\n",
       "      <td>23</td>\n",
       "    </tr>\n",
       "    <tr>\n",
       "      <th>299</th>\n",
       "      <td>mFmTMmFjMMWFfZtttflWjmWTngNHJHggJJHtzgnJvBtBgHdv</td>\n",
       "      <td>mFmTMmFjMMWFfZtttflWjmWT</td>\n",
       "      <td>ngNHJHggJJHtzgnJvBtBgHdv</td>\n",
       "      <td>t</td>\n",
       "      <td>20</td>\n",
       "    </tr>\n",
       "  </tbody>\n",
       "</table>\n",
       "<p>300 rows × 5 columns</p>\n",
       "</div>"
      ],
      "text/plain": [
       "                                                  bpc  \\\n",
       "0                                DMwrszrfMzSSCpLpfCCn   \n",
       "1                RMvhZhQqlvhMvRtbvbcPclPlncddppLTdppd   \n",
       "2                                  tVMQhFtjjWmsFJsmsW   \n",
       "3                        trRtvNhfJhSzzSTFVhQQZQhHGphP   \n",
       "4                CnLMBWLwDMgMcwwdngdHGPVTQGpTHZdGPGpd   \n",
       "..                                                ...   \n",
       "295                        FChzzBWhVzrgMwffJwlnngnTlJ   \n",
       "296                        MCvqvhFzcHCChjtpNNVLppGmbq   \n",
       "297                            bZZzJnccqdzcLhrcQDLrDs   \n",
       "298        FfCfWVfjWTFClClfwjWCfGGwhZSDhSLsSSRpZprLph   \n",
       "299  mFmTMmFjMMWFfZtttflWjmWTngNHJHggJJHtzgnJvBtBgHdv   \n",
       "\n",
       "                   first_half               second_half overlapping_item  \\\n",
       "0                  DMwrszrfMz                SSCpLpfCCn                f   \n",
       "1          RMvhZhQqlvhMvRtbvb        cPclPlncddppLTdppd                l   \n",
       "2                   tVMQhFtjj                 WmsFJsmsW                F   \n",
       "3              trRtvNhfJhSzzS            TFVhQQZQhHGphP                h   \n",
       "4          CnLMBWLwDMgMcwwdng        dHGPVTQGpTHZdGPGpd                d   \n",
       "..                        ...                       ...              ...   \n",
       "295             FChzzBWhVzrgM             wffJwlnngnTlJ                g   \n",
       "296             MCvqvhFzcHCCh             jtpNNVLppGmbq                q   \n",
       "297               bZZzJnccqdz               cLhrcQDLrDs                c   \n",
       "298     FfCfWVfjWTFClClfwjWCf     GGwhZSDhSLsSSRpZprLph                w   \n",
       "299  mFmTMmFjMMWFfZtttflWjmWT  ngNHJHggJJHtzgnJvBtBgHdv                t   \n",
       "\n",
       "     priority  \n",
       "0           6  \n",
       "1          12  \n",
       "2          32  \n",
       "3           8  \n",
       "4           4  \n",
       "..        ...  \n",
       "295         7  \n",
       "296        17  \n",
       "297         3  \n",
       "298        23  \n",
       "299        20  \n",
       "\n",
       "[300 rows x 5 columns]"
      ]
     },
     "execution_count": 54,
     "metadata": {},
     "output_type": "execute_result"
    }
   ],
   "source": [
    "day_3"
   ]
  },
  {
   "cell_type": "code",
   "execution_count": 55,
   "metadata": {},
   "outputs": [
    {
     "data": {
      "text/plain": [
       "7811"
      ]
     },
     "execution_count": 55,
     "metadata": {},
     "output_type": "execute_result"
    }
   ],
   "source": [
    "day_3['priority'].sum()"
   ]
  },
  {
   "cell_type": "code",
   "execution_count": null,
   "metadata": {},
   "outputs": [],
   "source": []
  }
 ],
 "metadata": {
  "kernelspec": {
   "display_name": "Python 3",
   "language": "python",
   "name": "python3"
  },
  "language_info": {
   "codemirror_mode": {
    "name": "ipython",
    "version": 3
   },
   "file_extension": ".py",
   "mimetype": "text/x-python",
   "name": "python",
   "nbconvert_exporter": "python",
   "pygments_lexer": "ipython3",
   "version": "3.10.4"
  },
  "orig_nbformat": 4,
  "vscode": {
   "interpreter": {
    "hash": "3ad933181bd8a04b432d3370b9dc3b0662ad032c4dfaa4e4f1596c548f763858"
   }
  }
 },
 "nbformat": 4,
 "nbformat_minor": 2
}
